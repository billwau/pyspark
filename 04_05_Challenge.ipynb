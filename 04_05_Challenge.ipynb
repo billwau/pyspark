{
  "nbformat": 4,
  "nbformat_minor": 0,
  "metadata": {
    "colab": {
      "name": "04_05 Challenge.ipynb",
      "provenance": [],
      "collapsed_sections": [],
      "include_colab_link": true
    },
    "kernelspec": {
      "display_name": "Python 3",
      "language": "python",
      "name": "python3"
    },
    "language_info": {
      "codemirror_mode": {
        "name": "ipython",
        "version": 3
      },
      "file_extension": ".py",
      "mimetype": "text/x-python",
      "name": "python",
      "nbconvert_exporter": "python",
      "pygments_lexer": "ipython3",
      "version": "3.6.5"
    }
  },
  "cells": [
    {
      "cell_type": "markdown",
      "metadata": {
        "id": "view-in-github",
        "colab_type": "text"
      },
      "source": [
        "<a href=\"https://colab.research.google.com/github/billwau/pyspark/blob/master/04_05_Challenge.ipynb\" target=\"_parent\"><img src=\"https://colab.research.google.com/assets/colab-badge.svg\" alt=\"Open In Colab\"/></a>"
      ]
    },
    {
      "cell_type": "markdown",
      "metadata": {
        "colab_type": "text",
        "id": "8qf-TmnsBgXd"
      },
      "source": [
        "# Challenge"
      ]
    },
    {
      "cell_type": "markdown",
      "metadata": {
        "colab_type": "text",
        "id": "Dd6t0uFzuR4X"
      },
      "source": [
        "## Download and install Spark"
      ]
    },
    {
      "cell_type": "code",
      "metadata": {
        "colab_type": "code",
        "id": "zToS5PqxBXpK",
        "colab": {
          "base_uri": "https://localhost:8080/",
          "height": 34
        },
        "outputId": "bd3ab9da-7f63-4d67-990d-368ddb728eca"
      },
      "source": [
        "!ls"
      ],
      "execution_count": 1,
      "outputs": [
        {
          "output_type": "stream",
          "text": [
            "sample_data\n"
          ],
          "name": "stdout"
        }
      ]
    },
    {
      "cell_type": "code",
      "metadata": {
        "colab_type": "code",
        "id": "tt7ZS1_wGgjn",
        "colab": {
          "base_uri": "https://localhost:8080/",
          "height": 459
        },
        "outputId": "b4513c8e-6f0c-4557-9bf3-145fbc9f3b23"
      },
      "source": [
        "!apt-get update\n",
        "!apt-get install openjdk-8-jdk-headless -qq > /dev/null\n",
        "!wget -q http://archive.apache.org/dist/spark/spark-2.3.1/spark-2.3.1-bin-hadoop2.7.tgz\n",
        "!tar xf spark-2.3.1-bin-hadoop2.7.tgz\n",
        "!pip install -q findspark"
      ],
      "execution_count": 2,
      "outputs": [
        {
          "output_type": "stream",
          "text": [
            "\r0% [Working]\r            \rGet:1 http://security.ubuntu.com/ubuntu bionic-security InRelease [88.7 kB]\n",
            "\r0% [Connecting to archive.ubuntu.com (91.189.88.152)] [1 InRelease 2,586 B/88.7\r0% [Waiting for headers] [Connected to cloud.r-project.org (54.192.160.80)] [Wa\r                                                                               \rIgn:2 https://developer.download.nvidia.com/compute/cuda/repos/ubuntu1804/x86_64  InRelease\n",
            "\r0% [Waiting for headers] [Connected to cloud.r-project.org (54.192.160.80)] [Wa\r0% [1 InRelease gpgv 88.7 kB] [Waiting for headers] [Connected to cloud.r-proje\r                                                                               \rGet:3 https://cloud.r-project.org/bin/linux/ubuntu bionic-cran35/ InRelease [3,626 B]\n",
            "\r0% [1 InRelease gpgv 88.7 kB] [Waiting for headers] [3 InRelease 3,626 B/3,626 \r0% [1 InRelease gpgv 88.7 kB] [Waiting for headers] [Waiting for headers] [Wait\r                                                                               \rHit:4 http://ppa.launchpad.net/graphics-drivers/ppa/ubuntu bionic InRelease\n",
            "\r                                                                               \r0% [1 InRelease gpgv 88.7 kB] [Waiting for headers] [Waiting for headers]\r                                                                         \rHit:5 http://archive.ubuntu.com/ubuntu bionic InRelease\n",
            "\r0% [1 InRelease gpgv 88.7 kB] [Waiting for headers] [Waiting for headers] [Conn\r                                                                               \rIgn:6 https://developer.download.nvidia.com/compute/machine-learning/repos/ubuntu1804/x86_64  InRelease\n",
            "\r0% [1 InRelease gpgv 88.7 kB] [Waiting for headers] [Connecting to ppa.launchpa\r                                                                               \rHit:7 https://developer.download.nvidia.com/compute/cuda/repos/ubuntu1804/x86_64  Release\n",
            "\r0% [1 InRelease gpgv 88.7 kB] [Waiting for headers] [Connecting to ppa.launchpa\r                                                                               \rGet:8 https://developer.download.nvidia.com/compute/machine-learning/repos/ubuntu1804/x86_64  Release [564 B]\n",
            "\r0% [1 InRelease gpgv 88.7 kB] [Waiting for headers] [Connecting to ppa.launchpa\r                                                                               \rGet:9 https://developer.download.nvidia.com/compute/machine-learning/repos/ubuntu1804/x86_64  Release.gpg [833 B]\n",
            "Get:10 http://archive.ubuntu.com/ubuntu bionic-updates InRelease [88.7 kB]\n",
            "Get:11 http://ppa.launchpad.net/marutter/c2d4u3.5/ubuntu bionic InRelease [15.4 kB]\n",
            "Get:12 http://security.ubuntu.com/ubuntu bionic-security/main amd64 Packages [870 kB]\n",
            "Get:13 http://security.ubuntu.com/ubuntu bionic-security/universe amd64 Packages [835 kB]\n",
            "Get:14 http://security.ubuntu.com/ubuntu bionic-security/restricted amd64 Packages [37.0 kB]\n",
            "Get:15 http://archive.ubuntu.com/ubuntu bionic-backports InRelease [74.6 kB]\n",
            "Get:16 https://cloud.r-project.org/bin/linux/ubuntu bionic-cran35/ Packages [87.7 kB]\n",
            "Get:18 https://developer.download.nvidia.com/compute/machine-learning/repos/ubuntu1804/x86_64  Packages [31.7 kB]\n",
            "Get:19 http://ppa.launchpad.net/marutter/c2d4u3.5/ubuntu bionic/main Sources [1,793 kB]\n",
            "Get:20 http://archive.ubuntu.com/ubuntu bionic-updates/restricted amd64 Packages [50.4 kB]\n",
            "Get:21 http://archive.ubuntu.com/ubuntu bionic-updates/main amd64 Packages [1,161 kB]\n",
            "Get:22 http://archive.ubuntu.com/ubuntu bionic-updates/universe amd64 Packages [1,367 kB]\n",
            "Get:23 http://archive.ubuntu.com/ubuntu bionic-updates/multiverse amd64 Packages [12.2 kB]\n",
            "Get:24 http://archive.ubuntu.com/ubuntu bionic-backports/universe amd64 Packages [4,247 B]\n",
            "Get:25 http://ppa.launchpad.net/marutter/c2d4u3.5/ubuntu bionic/main amd64 Packages [865 kB]\n",
            "Fetched 7,386 kB in 3s (2,339 kB/s)\n",
            "Reading package lists... Done\n"
          ],
          "name": "stdout"
        }
      ]
    },
    {
      "cell_type": "markdown",
      "metadata": {
        "colab_type": "text",
        "id": "FEuEkV0BlzAD"
      },
      "source": [
        "## Setup environment"
      ]
    },
    {
      "cell_type": "code",
      "metadata": {
        "colab_type": "code",
        "id": "sdOOq4twHN1K",
        "colab": {
          "base_uri": "https://localhost:8080/",
          "height": 216
        },
        "outputId": "574b837d-3ec0-4bd2-d706-7481f1eb907d"
      },
      "source": [
        "import os\n",
        "os.environ[\"JAVA_HOME\"] = \"/usr/lib/jvm/java-8-openjdk-amd64\"\n",
        "os.environ[\"SPARK_HOME\"] = \"/content/spark-2.3.1-bin-hadoop2.7\"\n",
        "\n",
        "import findspark\n",
        "findspark.init()\n",
        "from pyspark import SparkContext\n",
        "sc = SparkContext.getOrCreate()\n",
        "\n",
        "import pyspark\n",
        "from pyspark.sql import SparkSession\n",
        "spark = SparkSession.builder.getOrCreate() \n",
        "spark"
      ],
      "execution_count": 3,
      "outputs": [
        {
          "output_type": "execute_result",
          "data": {
            "text/html": [
              "\n",
              "            <div>\n",
              "                <p><b>SparkSession - in-memory</b></p>\n",
              "                \n",
              "        <div>\n",
              "            <p><b>SparkContext</b></p>\n",
              "\n",
              "            <p><a href=\"http://ecb15e41a1d3:4040\">Spark UI</a></p>\n",
              "\n",
              "            <dl>\n",
              "              <dt>Version</dt>\n",
              "                <dd><code>v2.3.1</code></dd>\n",
              "              <dt>Master</dt>\n",
              "                <dd><code>local[*]</code></dd>\n",
              "              <dt>AppName</dt>\n",
              "                <dd><code>pyspark-shell</code></dd>\n",
              "            </dl>\n",
              "        </div>\n",
              "        \n",
              "            </div>\n",
              "        "
            ],
            "text/plain": [
              "<pyspark.sql.session.SparkSession at 0x7f09b84069e8>"
            ]
          },
          "metadata": {
            "tags": []
          },
          "execution_count": 3
        }
      ]
    },
    {
      "cell_type": "markdown",
      "metadata": {
        "colab_type": "text",
        "id": "0ysUlfFrN5OD"
      },
      "source": [
        "## Downloading and preprocessing Chicago's Reported Crime Data"
      ]
    },
    {
      "cell_type": "code",
      "metadata": {
        "colab_type": "code",
        "id": "FDtw5Hy3N-pV",
        "colab": {
          "base_uri": "https://localhost:8080/",
          "height": 289
        },
        "outputId": "39944553-b0d3-4741-8305-23deb8c1f063"
      },
      "source": [
        "!wget https://data.cityofchicago.org/api/views/ijzp-q8t2/rows.csv?accessType=DOWNLOAD\n",
        "!ls -l"
      ],
      "execution_count": 4,
      "outputs": [
        {
          "output_type": "stream",
          "text": [
            "--2020-04-02 21:17:53--  https://data.cityofchicago.org/api/views/ijzp-q8t2/rows.csv?accessType=DOWNLOAD\n",
            "Resolving data.cityofchicago.org (data.cityofchicago.org)... 52.206.68.26, 52.206.140.199, 52.206.140.205\n",
            "Connecting to data.cityofchicago.org (data.cityofchicago.org)|52.206.68.26|:443... connected.\n",
            "HTTP request sent, awaiting response... 200 OK\n",
            "Length: unspecified [text/csv]\n",
            "Saving to: ‘rows.csv?accessType=DOWNLOAD’\n",
            "\n",
            "rows.csv?accessType     [          <=>       ]   1.56G  2.99MB/s    in 8m 53s  \n",
            "\n",
            "2020-04-02 21:26:47 (2.99 MB/s) - ‘rows.csv?accessType=DOWNLOAD’ saved [1673623213]\n",
            "\n",
            "total 1855008\n",
            "-rw-r--r--  1 root root 1673623213 Apr  2 11:05 'rows.csv?accessType=DOWNLOAD'\n",
            "drwxr-xr-x  1 root root       4096 Mar 18 16:23  sample_data\n",
            "drwxrwxr-x 13 1000 1000       4096 Jun  1  2018  spark-2.3.1-bin-hadoop2.7\n",
            "-rw-r--r--  1 root root  225883783 Jun  1  2018  spark-2.3.1-bin-hadoop2.7.tgz\n"
          ],
          "name": "stdout"
        }
      ]
    },
    {
      "cell_type": "code",
      "metadata": {
        "colab_type": "code",
        "id": "v4P5mMONYyVd",
        "colab": {
          "base_uri": "https://localhost:8080/",
          "height": 102
        },
        "outputId": "6e637846-749b-421e-9874-b442ca7d0251"
      },
      "source": [
        "!mv rows.csv\\?accessType\\=DOWNLOAD reported-crimes.csv\n",
        "!ls -l"
      ],
      "execution_count": 5,
      "outputs": [
        {
          "output_type": "stream",
          "text": [
            "total 1855008\n",
            "-rw-r--r--  1 root root 1673623213 Apr  2 11:05 reported-crimes.csv\n",
            "drwxr-xr-x  1 root root       4096 Mar 18 16:23 sample_data\n",
            "drwxrwxr-x 13 1000 1000       4096 Jun  1  2018 spark-2.3.1-bin-hadoop2.7\n",
            "-rw-r--r--  1 root root  225883783 Jun  1  2018 spark-2.3.1-bin-hadoop2.7.tgz\n"
          ],
          "name": "stdout"
        }
      ]
    },
    {
      "cell_type": "code",
      "metadata": {
        "colab_type": "code",
        "id": "9-1cK0nPNS95",
        "colab": {
          "base_uri": "https://localhost:8080/",
          "height": 224
        },
        "outputId": "65369624-b0f9-4686-8ac3-cb9de06c1963"
      },
      "source": [
        "from pyspark.sql.functions import to_timestamp,col,lit\n",
        "rc = spark.read.csv('reported-crimes.csv',header=True).withColumn('Date',to_timestamp(col('Date'),'MM/dd/yyyy hh:mm:ss a')).filter(col('Date') <= lit('2018-11-11'))\n",
        "rc.show(5)"
      ],
      "execution_count": 6,
      "outputs": [
        {
          "output_type": "stream",
          "text": [
            "+--------+-----------+-------------------+--------------------+----+-------------------+--------------------+--------------------+------+--------+----+--------+----+--------------+--------+------------+------------+----+--------------------+--------+---------+--------+\n",
            "|      ID|Case Number|               Date|               Block|IUCR|       Primary Type|         Description|Location Description|Arrest|Domestic|Beat|District|Ward|Community Area|FBI Code|X Coordinate|Y Coordinate|Year|          Updated On|Latitude|Longitude|Location|\n",
            "+--------+-----------+-------------------+--------------------+----+-------------------+--------------------+--------------------+------+--------+----+--------+----+--------------+--------+------------+------------+----+--------------------+--------+---------+--------+\n",
            "|11034701|   JA366925|2001-01-01 11:00:00|     016XX E 86TH PL|1153| DECEPTIVE PRACTICE|FINANCIAL IDENTIT...|           RESIDENCE| false|   false|0412|     004|   8|            45|      11|        null|        null|2001|08/05/2017 03:50:...|    null|     null|    null|\n",
            "|11227287|   JB147188|2017-10-08 03:00:00|  092XX S RACINE AVE|0281|CRIM SEXUAL ASSAULT|      NON-AGGRAVATED|           RESIDENCE| false|   false|2222|     022|  21|            73|      02|        null|        null|2017|02/11/2018 03:57:...|    null|     null|    null|\n",
            "|11227583|   JB147595|2017-03-28 14:00:00|     026XX W 79TH ST|0620|           BURGLARY|      UNLAWFUL ENTRY|               OTHER| false|   false|0835|     008|  18|            70|      05|        null|        null|2017|02/11/2018 03:57:...|    null|     null|    null|\n",
            "|11227293|   JB147230|2017-09-09 20:17:00|060XX S EBERHART AVE|0810|              THEFT|           OVER $500|           RESIDENCE| false|   false|0313|     003|  20|            42|      06|        null|        null|2017|02/11/2018 03:57:...|    null|     null|    null|\n",
            "|11227634|   JB147599|2017-08-26 10:00:00| 001XX W RANDOLPH ST|0281|CRIM SEXUAL ASSAULT|      NON-AGGRAVATED|         HOTEL/MOTEL| false|   false|0122|     001|  42|            32|      02|        null|        null|2017|02/11/2018 03:57:...|    null|     null|    null|\n",
            "+--------+-----------+-------------------+--------------------+----+-------------------+--------------------+--------------------+------+--------+----+--------+----+--------------+--------+------------+------------+----+--------------------+--------+---------+--------+\n",
            "only showing top 5 rows\n",
            "\n"
          ],
          "name": "stdout"
        }
      ]
    },
    {
      "cell_type": "markdown",
      "metadata": {
        "colab_type": "text",
        "id": "mI_zYOVpf2yK"
      },
      "source": [
        "## Challenge questions"
      ]
    },
    {
      "cell_type": "markdown",
      "metadata": {
        "colab_type": "text",
        "id": "WvOfJmzhf0kG"
      },
      "source": [
        "**What is the most frequently reported non-criminal activity?**"
      ]
    },
    {
      "cell_type": "code",
      "metadata": {
        "colab_type": "code",
        "id": "808f1HzwgDyh",
        "colab": {
          "base_uri": "https://localhost:8080/",
          "height": 714
        },
        "outputId": "c7e29fce-f2c5-4108-e788-f4dbf6016de4"
      },
      "source": [
        "rc.select(col('Primary Type')).distinct().show(200,False)"
      ],
      "execution_count": 19,
      "outputs": [
        {
          "output_type": "stream",
          "text": [
            "+---------------------------------+\n",
            "|Primary Type                     |\n",
            "+---------------------------------+\n",
            "|OFFENSE INVOLVING CHILDREN       |\n",
            "|CRIMINAL SEXUAL ASSAULT          |\n",
            "|STALKING                         |\n",
            "|PUBLIC PEACE VIOLATION           |\n",
            "|OBSCENITY                        |\n",
            "|NON-CRIMINAL (SUBJECT SPECIFIED) |\n",
            "|ARSON                            |\n",
            "|DOMESTIC VIOLENCE                |\n",
            "|GAMBLING                         |\n",
            "|CRIMINAL TRESPASS                |\n",
            "|ASSAULT                          |\n",
            "|NON - CRIMINAL                   |\n",
            "|LIQUOR LAW VIOLATION             |\n",
            "|MOTOR VEHICLE THEFT              |\n",
            "|THEFT                            |\n",
            "|BATTERY                          |\n",
            "|ROBBERY                          |\n",
            "|HOMICIDE                         |\n",
            "|RITUALISM                        |\n",
            "|PUBLIC INDECENCY                 |\n",
            "|CRIM SEXUAL ASSAULT              |\n",
            "|HUMAN TRAFFICKING                |\n",
            "|INTIMIDATION                     |\n",
            "|PROSTITUTION                     |\n",
            "|DECEPTIVE PRACTICE               |\n",
            "|CONCEALED CARRY LICENSE VIOLATION|\n",
            "|SEX OFFENSE                      |\n",
            "|CRIMINAL DAMAGE                  |\n",
            "|NARCOTICS                        |\n",
            "|NON-CRIMINAL                     |\n",
            "|OTHER OFFENSE                    |\n",
            "|KIDNAPPING                       |\n",
            "|BURGLARY                         |\n",
            "|WEAPONS VIOLATION                |\n",
            "|OTHER NARCOTIC VIOLATION         |\n",
            "|INTERFERENCE WITH PUBLIC OFFICER |\n",
            "+---------------------------------+\n",
            "\n"
          ],
          "name": "stdout"
        }
      ]
    },
    {
      "cell_type": "code",
      "metadata": {
        "colab_type": "code",
        "id": "PeeOFy5cgDRq",
        "colab": {
          "base_uri": "https://localhost:8080/",
          "height": 714
        },
        "outputId": "83ffa060-5981-4139-ca12-610da7cd1070"
      },
      "source": [
        "rc.groupBy(col('Primary Type')).count().orderBy('count',ascending=False).show(200, False)"
      ],
      "execution_count": 20,
      "outputs": [
        {
          "output_type": "stream",
          "text": [
            "+---------------------------------+-------+\n",
            "|Primary Type                     |count  |\n",
            "+---------------------------------+-------+\n",
            "|THEFT                            |1418420|\n",
            "|BATTERY                          |1232220|\n",
            "|CRIMINAL DAMAGE                  |771498 |\n",
            "|NARCOTICS                        |711647 |\n",
            "|OTHER OFFENSE                    |418832 |\n",
            "|ASSAULT                          |418507 |\n",
            "|BURGLARY                         |388028 |\n",
            "|MOTOR VEHICLE THEFT              |314141 |\n",
            "|DECEPTIVE PRACTICE               |265490 |\n",
            "|ROBBERY                          |255599 |\n",
            "|CRIMINAL TRESPASS                |193370 |\n",
            "|WEAPONS VIOLATION                |70663  |\n",
            "|PROSTITUTION                     |68329  |\n",
            "|PUBLIC PEACE VIOLATION           |47785  |\n",
            "|OFFENSE INVOLVING CHILDREN       |45705  |\n",
            "|CRIM SEXUAL ASSAULT              |27190  |\n",
            "|SEX OFFENSE                      |25296  |\n",
            "|INTERFERENCE WITH PUBLIC OFFICER |15140  |\n",
            "|GAMBLING                         |14422  |\n",
            "|LIQUOR LAW VIOLATION             |14067  |\n",
            "|ARSON                            |11156  |\n",
            "|HOMICIDE                         |9465   |\n",
            "|KIDNAPPING                       |6657   |\n",
            "|INTIMIDATION                     |3937   |\n",
            "|STALKING                         |3384   |\n",
            "|OBSCENITY                        |582    |\n",
            "|CONCEALED CARRY LICENSE VIOLATION|283    |\n",
            "|CRIMINAL SEXUAL ASSAULT          |221    |\n",
            "|NON-CRIMINAL                     |164    |\n",
            "|PUBLIC INDECENCY                 |161    |\n",
            "|OTHER NARCOTIC VIOLATION         |124    |\n",
            "|HUMAN TRAFFICKING                |49     |\n",
            "|NON - CRIMINAL                   |38     |\n",
            "|RITUALISM                        |23     |\n",
            "|NON-CRIMINAL (SUBJECT SPECIFIED) |9      |\n",
            "|DOMESTIC VIOLENCE                |1      |\n",
            "+---------------------------------+-------+\n",
            "\n"
          ],
          "name": "stdout"
        }
      ]
    },
    {
      "cell_type": "code",
      "metadata": {
        "colab_type": "code",
        "id": "qLS_NEpEgDBJ",
        "colab": {
          "base_uri": "https://localhost:8080/",
          "height": 34
        },
        "outputId": "9a6f6f74-421c-4e91-b26a-17dccc320932"
      },
      "source": [
        "rc.cache()\n",
        "rc.count()"
      ],
      "execution_count": 21,
      "outputs": [
        {
          "output_type": "execute_result",
          "data": {
            "text/plain": [
              "6752603"
            ]
          },
          "metadata": {
            "tags": []
          },
          "execution_count": 21
        }
      ]
    },
    {
      "cell_type": "code",
      "metadata": {
        "colab_type": "code",
        "id": "E7NuMVpygC2h",
        "colab": {
          "base_uri": "https://localhost:8080/",
          "height": 34
        },
        "outputId": "a005de8b-ec13-4e54-bc59-49d5436b3ee7"
      },
      "source": [
        "rc.select(col('Primary Type')).distinct().count()"
      ],
      "execution_count": 22,
      "outputs": [
        {
          "output_type": "execute_result",
          "data": {
            "text/plain": [
              "36"
            ]
          },
          "metadata": {
            "tags": []
          },
          "execution_count": 22
        }
      ]
    },
    {
      "cell_type": "code",
      "metadata": {
        "colab_type": "code",
        "id": "5uC0WTu8KI59",
        "colab": {
          "base_uri": "https://localhost:8080/",
          "height": 714
        },
        "outputId": "970575aa-af06-4e2e-f421-d5c63c8294ee"
      },
      "source": [
        "rc.select(col('Primary Type')).distinct().orderBy(col('Primary Type')).show(36,False)"
      ],
      "execution_count": 24,
      "outputs": [
        {
          "output_type": "stream",
          "text": [
            "+---------------------------------+\n",
            "|Primary Type                     |\n",
            "+---------------------------------+\n",
            "|ARSON                            |\n",
            "|ASSAULT                          |\n",
            "|BATTERY                          |\n",
            "|BURGLARY                         |\n",
            "|CONCEALED CARRY LICENSE VIOLATION|\n",
            "|CRIM SEXUAL ASSAULT              |\n",
            "|CRIMINAL DAMAGE                  |\n",
            "|CRIMINAL SEXUAL ASSAULT          |\n",
            "|CRIMINAL TRESPASS                |\n",
            "|DECEPTIVE PRACTICE               |\n",
            "|DOMESTIC VIOLENCE                |\n",
            "|GAMBLING                         |\n",
            "|HOMICIDE                         |\n",
            "|HUMAN TRAFFICKING                |\n",
            "|INTERFERENCE WITH PUBLIC OFFICER |\n",
            "|INTIMIDATION                     |\n",
            "|KIDNAPPING                       |\n",
            "|LIQUOR LAW VIOLATION             |\n",
            "|MOTOR VEHICLE THEFT              |\n",
            "|NARCOTICS                        |\n",
            "|NON - CRIMINAL                   |\n",
            "|NON-CRIMINAL                     |\n",
            "|NON-CRIMINAL (SUBJECT SPECIFIED) |\n",
            "|OBSCENITY                        |\n",
            "|OFFENSE INVOLVING CHILDREN       |\n",
            "|OTHER NARCOTIC VIOLATION         |\n",
            "|OTHER OFFENSE                    |\n",
            "|PROSTITUTION                     |\n",
            "|PUBLIC INDECENCY                 |\n",
            "|PUBLIC PEACE VIOLATION           |\n",
            "|RITUALISM                        |\n",
            "|ROBBERY                          |\n",
            "|SEX OFFENSE                      |\n",
            "|STALKING                         |\n",
            "|THEFT                            |\n",
            "|WEAPONS VIOLATION                |\n",
            "+---------------------------------+\n",
            "\n"
          ],
          "name": "stdout"
        }
      ]
    },
    {
      "cell_type": "code",
      "metadata": {
        "colab_type": "code",
        "id": "AHOdjsiBKI0W",
        "colab": {
          "base_uri": "https://localhost:8080/",
          "height": 989
        },
        "outputId": "309d1f62-66ca-46c6-ad86-44970ff0d81b"
      },
      "source": [
        "nc = rc.filter((col('Primary Type')=='NON - CRIMINAL')|(col('Primary Type')=='NON-CRIMINAL')|(col('Primary Type')=='NON - CRIMINAL (SUBJECT SPECIFIED)'))\n",
        "nc.show(50)"
      ],
      "execution_count": 25,
      "outputs": [
        {
          "output_type": "stream",
          "text": [
            "+--------+-----------+-------------------+--------------------+----+--------------+--------------------+--------------------+------+--------+----+--------+----+--------------+--------+------------+------------+----+--------------------+------------+-------------+--------------------+-----------+\n",
            "|      ID|Case Number|               Date|               Block|IUCR|  Primary Type|         Description|Location Description|Arrest|Domestic|Beat|District|Ward|Community Area|FBI Code|X Coordinate|Y Coordinate|Year|          Updated On|    Latitude|    Longitude|            Location|Day_of_week|\n",
            "+--------+-----------+-------------------+--------------------+----+--------------+--------------------+--------------------+------+--------+----+--------+----+--------------+--------+------------+------------+----+--------------------+------------+-------------+--------------------+-----------+\n",
            "|11249289|   JB176638|2016-12-23 12:00:00| 0000X N CENTRAL AVE|5093|  NON-CRIMINAL|       LOST PASSPORT|           RESIDENCE| false|   false|1513|     015|  29|            25|      26|        null|        null|2016|03/08/2018 03:55:...|        null|         null|                null|          6|\n",
            "|10813751|   JA113073|2003-03-17 20:00:00| 029XX N MELVINA AVE|5093|  NON-CRIMINAL|       LOST PASSPORT|           RESIDENCE| false|   false|2511|     025|  29|            19|      26|        null|        null|2003|01/14/2017 03:49:...|        null|         null|                null|          2|\n",
            "|10579978|   HZ328710|2015-12-25 09:00:00|036XX W FULLERTON...|5093|  NON-CRIMINAL|       LOST PASSPORT|            SIDEWALK| false|   false|2525|     025|  35|            22|      26|        null|        null|2015|06/30/2016 03:51:...|        null|         null|                null|          6|\n",
            "|10422305|   HZ160770|2009-02-22 08:00:00|     024XX W 24TH PL|5093|  NON-CRIMINAL|       LOST PASSPORT|               OTHER| false|   false|1034|     010|  25|            31|      26|        null|        null|2009|02/22/2016 04:09:...|        null|         null|                null|          1|\n",
            "|10828494|   JA129454|2014-10-17 13:05:00|053XX N CUMBERLAN...|5093|  NON-CRIMINAL|       LOST PASSPORT|           APARTMENT| false|   false|1614|     016|  41|            76|      26|        null|        null|2014|01/26/2017 03:48:...|        null|         null|                null|          6|\n",
            "|10316326|   HY505345|2015-11-17 19:30:00|051XX S WENTWORTH...|5114|  NON-CRIMINAL|   FOID - REVOCATION|POLICE FACILITY/V...|  true|    true|0225|     002|   3|            37|      26|        null|        null|2015|02/09/2018 03:44:...|        null|         null|                null|          3|\n",
            "|10385966|   HZ122461|2015-11-20 15:00:00| 010XX S MONITOR AVE|5093|  NON-CRIMINAL|       LOST PASSPORT|           RESIDENCE| false|   false|1513|     015|  29|            25|      26|        null|        null|2015|02/09/2018 03:44:...|        null|         null|                null|          6|\n",
            "|11397021|   JB371684|2017-10-30 09:00:00|015XX W HOLLYWOOD...|5093|  NON-CRIMINAL|       LOST PASSPORT|           APARTMENT| false|   false|2012|     020|  40|            77|      26|        null|        null|2017|07/31/2018 03:50:...|        null|         null|                null|          2|\n",
            "|11420921|   HY535672|2015-12-13 14:34:00|    100XX W OHARE ST|5093|  NON-CRIMINAL|       LOST PASSPORT|AIRPORT TERMINAL ...| false|   false|1651|     016|  41|            76|      26|        null|        null|2015|08/21/2018 04:05:...|        null|         null|                null|          1|\n",
            "|10062441|   HY250685|2015-05-07 13:20:00| 012XX S HARDING AVE|5114|NON - CRIMINAL|   FOID - REVOCATION|           RESIDENCE| false|   false|1011|     010|  24|            29|      26|     1150243|     1894129|2015|02/10/2018 03:50:...|41.865394646|-87.723928428|(41.865394646, -8...|          5|\n",
            "|10064717|   HY253344|2015-05-08 13:15:00|051XX S WENTWORTH...|5114|NON - CRIMINAL|   FOID - REVOCATION|POLICE FACILITY/V...| false|   false|0225|     002|   3|            37|      26|     1175826|     1871120|2015|02/10/2018 03:50:...| 41.80171934|-87.630703621|(41.80171934, -87...|          6|\n",
            "|10072565|   HY261001|2015-05-14 10:30:00|    006XX N WELLS ST|5114|NON - CRIMINAL|   FOID - REVOCATION|              STREET| false|   false|1832|     018|  42|             8|      26|     1174623|     1904537|2015|02/10/2018 03:50:...| 41.89344506|-87.634117632|(41.89344506, -87...|          5|\n",
            "|10109156|   HY297801|2015-06-12 09:00:00|    053XX S NEVA AVE|5114|NON - CRIMINAL|   FOID - REVOCATION|           RESIDENCE| false|   false|0811|     008|  23|            56|      26|     1129584|     1868411|2015|02/10/2018 03:50:...|41.795197456|-87.800355525|(41.795197456, -8...|          6|\n",
            "|10115077|   HY304017|2015-06-16 19:00:00|  081XX S WHIPPLE ST|5114|NON - CRIMINAL|   FOID - REVOCATION|           RESIDENCE| false|   false|0835|     008|  18|            70|      26|     1157460|     1850515|2015|02/10/2018 03:50:...|41.745568408|-87.698616805|(41.745568408, -8...|          3|\n",
            "|10124614|   HY313353|2015-06-23 17:05:00|085XX W WINNEMAC AVE|5114|NON - CRIMINAL|   FOID - REVOCATION|           RESIDENCE|  true|   false|1614|     016|  41|            76|      26|     1118538|     1932386|2015|02/10/2018 03:50:...|41.970936043|-87.839512637|(41.970936043, -8...|          3|\n",
            "|10125981|   HY314305|2015-06-24 15:30:00|021XX N CALIFORNI...|5114|NON - CRIMINAL|   FOID - REVOCATION|POLICE FACILITY/V...| false|   false|1414|     014|  35|            22|      26|     1157345|     1914452|2015|02/10/2018 03:50:...|41.921021491| -87.69730355|(41.921021491, -8...|          4|\n",
            "|10127418|   HY315600|2015-06-25 15:30:00|     022XX W 51ST ST|5114|NON - CRIMINAL|   FOID - REVOCATION|           RESIDENCE| false|   false|0931|     009|  16|            63|      26|     1162194|     1870807|2015|02/10/2018 03:50:...|41.801155339| -87.68070621|(41.801155339, -8...|          5|\n",
            "|10127785|   HY316123|2015-06-25 22:45:00|051XX N MILWAUKEE...|5114|NON - CRIMINAL|   FOID - REVOCATION|POLICE FACILITY/V...|  true|   false|1623|     016|  45|            11|      26|     1138424|     1933673|2015|02/10/2018 03:50:...|41.974129858|-87.766357256|(41.974129858, -8...|          5|\n",
            "|10128364|   HY316525|2015-06-26 10:45:00|035XX S MICHIGAN AVE|5114|NON - CRIMINAL|   FOID - REVOCATION|POLICE FACILITY/V...| false|   false|0213|     002|   3|            35|      26|     1177772|     1881665|2015|02/10/2018 03:50:...|41.830611847|-87.623247369|(41.830611847, -8...|          6|\n",
            "|10132522|   HY321435|2015-06-29 22:23:00|     044XX W 76TH ST|1481|  NON-CRIMINAL|CONCEALED CARRY L...|              STREET|  true|   false|0833|     008|  13|            65|      15|     1148140|     1853871|2015|08/17/2015 03:03:...|41.754961443|-87.732681619|(41.754961443, -8...|          2|\n",
            "|10157940|   HY347539|2015-07-08 10:30:00| 016XX W CHICAGO AVE|5093|  NON-CRIMINAL|       LOST PASSPORT|              STREET| false|   false|1215|     012|   1|            24|      26|     1165158|     1905410|2015|02/10/2018 03:50:...|41.896047034|-87.668854221|(41.896047034, -8...|          4|\n",
            "|10181019|   HY369010|2015-08-01 10:15:00|  079XX S KEDZIE AVE|5114|NON - CRIMINAL|   FOID - REVOCATION|           RESIDENCE| false|   false|0835|     008|  18|            70|      26|     1156427|     1851731|2015|02/10/2018 03:50:...|41.748926157| -87.70236927|(41.748926157, -8...|          7|\n",
            "|10202049|   HY389275|2015-08-19 18:38:00|025XX W MARQUETTE RD|5114|NON - CRIMINAL|   FOID - REVOCATION|           APARTMENT| false|   false|0832|     008|  15|            66|      26|     1160388|     1860136|2015|02/10/2018 03:50:...|41.771910102|-87.687623385|(41.771910102, -8...|          4|\n",
            "|10212100|   HY398571|2015-08-26 17:45:00|    017XX S STATE ST|0585|  NON-CRIMINAL|NOTIFICATION OF S...|POLICE FACILITY/V...|  true|   false|0131|     001|   3|            33|      26|     1176607|     1891853|2015|02/10/2018 03:50:...|41.858594819|-87.627214427|(41.858594819, -8...|          4|\n",
            "|10213039|   HY398172|2015-08-26 11:45:00| 0000X W TERMINAL ST|5093|  NON-CRIMINAL|       LOST PASSPORT|AIRPORT TERMINAL ...| false|   false|1653|     016|  41|            76|      26|     1101811|     1934419|2015|02/10/2018 03:50:...|41.976762981|-87.900983721|(41.976762981, -8...|          4|\n",
            "|10221247|   HY406742|2015-09-01 22:00:00| 031XX W HARRISON ST|5114|NON - CRIMINAL|   FOID - REVOCATION|POLICE FACILITY/V...| false|   false|1134|     011|  24|            27|      26|     1155457|     1897193|2015|02/10/2018 03:50:...|41.873699424|-87.704705156|(41.873699424, -8...|          3|\n",
            "|10233370|   HY421530|2015-09-13 10:45:00|  010XX S MENARD AVE|5114|NON - CRIMINAL|   FOID - REVOCATION|           RESIDENCE|  true|   false|1513|     015|  29|            25|      26|     1137869|     1895239|2015|02/10/2018 03:50:...|41.868672696|-87.769327726|(41.868672696, -8...|          1|\n",
            "|10241515|   HY429346|2015-09-19 07:45:00|051XX N MILWAUKEE...|5114|NON - CRIMINAL|   FOID - REVOCATION|POLICE FACILITY/V...|  true|   false|1623|     016|  45|            11|      26|     1138424|     1933673|2015|02/10/2018 03:50:...|41.974129858|-87.766357256|(41.974129858, -8...|          7|\n",
            "|10277370|   HY465290|2015-10-16 20:00:00|    100XX W OHARE ST|5093|  NON-CRIMINAL|       LOST PASSPORT|            AIRCRAFT| false|   false|1651|     016|  41|            76|      26|     1100658|     1934241|2015|02/10/2018 03:50:...|41.976290414|-87.905227221|(41.976290414, -8...|          6|\n",
            "|10280097|   HY468448|2015-10-19 18:50:00|   033XX W OGDEN AVE|5114|NON - CRIMINAL|   FOID - REVOCATION|POLICE FACILITY/V...| false|   false|1024|     010|  24|            29|      26|     1154489|     1891024|2015|02/10/2018 03:50:...|41.856790413|-87.708424071|(41.856790413, -8...|          2|\n",
            "|10290745|   HY478502|2015-10-26 16:00:00|004XX W DIVERSEY ...|5093|  NON-CRIMINAL|       LOST PASSPORT|            SIDEWALK| false|   false|1934|     019|  44|             6|      26|     1172533|     1918887|2015|02/10/2018 03:50:...|41.932868651|-87.641368196|(41.932868651, -8...|          2|\n",
            "|10296800|   HY485235|2015-09-30 17:00:00|008XX N MAPLEWOOD...|5093|  NON-CRIMINAL|       LOST PASSPORT|            SIDEWALK| false|   false|1211|     012|   1|            24|      26|     1159246|     1905582|2015|02/10/2018 03:50:...|41.896642608|-87.690563055|(41.896642608, -8...|          4|\n",
            "|10300617|   HY489191|2015-11-03 15:00:00|  031XX S HALSTED ST|5114|NON - CRIMINAL|   FOID - REVOCATION|           RESIDENCE| false|   false|0913|     009|  11|            60|      26|     1171479|     1884120|2015|02/10/2018 03:50:...|41.837489008|-87.646264459|(41.837489008, -8...|          3|\n",
            "|10325994|   HY516457|2015-11-26 23:30:00|  001XX W HUBBARD ST|5093|  NON-CRIMINAL|       LOST PASSPORT|          RESTAURANT| false|   false|1831|     018|  42|             8|      26|     1175301|     1903292|2015|02/10/2018 03:50:...|41.890013524|-87.631664996|(41.890013524, -8...|          5|\n",
            "|10336794|   HY527983|2015-10-26 14:00:00|    006XX N STATE ST|5093|  NON-CRIMINAL|       LOST PASSPORT|               OTHER| false|   false|1832|     018|  42|             8|      26|     1176262|     1904268|2015|02/10/2018 03:50:...|  41.8926701|-87.628106353|(41.8926701, -87....|          2|\n",
            "|10344075|   HY535016|2015-12-12 20:50:00|     025XX W 80TH PL|5114|NON - CRIMINAL|   FOID - REVOCATION|VEHICLE NON-COMME...| false|   false|0835|     008|  18|            70|      26|     1160683|     1851174|2015|02/10/2018 03:50:...|41.747310961| -87.68678891|(41.747310961, -8...|          7|\n",
            "|10351482|   HY541941|2015-12-13 08:30:00|    100XX W OHARE ST|5093|  NON-CRIMINAL|       LOST PASSPORT|AIRPORT TERMINAL ...| false|   false|1651|     016|  41|            76|      26|     1100658|     1934241|2015|02/10/2018 03:50:...|41.976290414|-87.905227221|(41.976290414, -8...|          1|\n",
            "|10396040|   HZ131825|2016-01-04 18:00:00|  008XX W ADDISON ST|5114|  NON-CRIMINAL|   FOID - REVOCATION|HOSPITAL BUILDING...| false|   false|1923|     019|  44|             6|      26|     1169826|     1924123|2016|02/10/2018 03:50:...|41.947295978|-87.651162974|(41.947295978, -8...|          2|\n",
            "|10397129|   HZ133234|2016-01-29 15:30:00| 006XX W HARRISON ST|5114|NON - CRIMINAL|   FOID - REVOCATION|              STREET| false|   false|0124|     001|   2|            28|      26|     1172257|     1897564|2016|02/10/2018 03:50:...|41.874363279|-87.643013039|(41.874363279, -8...|          6|\n",
            "|10401279|   HZ137710|2016-02-02 07:00:00| 068XX S CRANDON AVE|5114|NON - CRIMINAL|   FOID - REVOCATION|           APARTMENT| false|   false|0331|     003|   5|            43|      26|     1192506|     1859959|2016|02/10/2018 03:50:...|41.770702367|-87.569896036|(41.770702367, -8...|          3|\n",
            "|10405784|   HZ142394|2016-02-06 11:20:00|031XX W FRANKLIN ...|5114|NON - CRIMINAL|   FOID - REVOCATION|              STREET|  true|   false|1221|     012|  27|            23|      26|     1155334|     1903164|2016|02/10/2018 03:50:...|41.890086914|-87.704996246|(41.890086914, -8...|          7|\n",
            "|10407502|   HZ143549|2016-02-07 11:00:00|    100XX W OHARE ST|5093|  NON-CRIMINAL|       LOST PASSPORT|            AIRCRAFT| false|   false|1651|     016|  41|            76|      26|     1100658|     1934241|2016|02/10/2018 03:50:...|41.976290414|-87.905227221|(41.976290414, -8...|          1|\n",
            "|10410240|   HZ146595|2016-02-10 09:07:00|045XX W CONGRESS ...|5114|NON - CRIMINAL|   FOID - REVOCATION|           RESIDENCE| false|   false|1131|     011|  24|            26|      26|     1146319|     1897308|2016|02/10/2018 03:50:...|41.874193745|-87.738252825|(41.874193745, -8...|          4|\n",
            "|10412587|   HZ149851|2016-02-13 00:11:00|  031XX S HALSTED ST|5114|NON - CRIMINAL|   FOID - REVOCATION|POLICE FACILITY/V...|  true|   false|0913|     009|  11|            60|      26|     1171479|     1884120|2016|02/10/2018 03:50:...|41.837489008|-87.646264459|(41.837489008, -8...|          7|\n",
            "|10417135|   HZ155024|2016-02-17 16:02:00|   028XX W CERMAK RD|5114|  NON-CRIMINAL|   FOID - REVOCATION|              STREET|  true|   false|1033|     010|  12|            30|      26|     1157790|     1889263|2016|02/10/2018 03:50:...|41.851891472|-87.696355505|(41.851891472, -8...|          4|\n",
            "|10422489|   HZ160886|2016-02-12 12:00:00|  029XX S NORMAL AVE|5093|  NON-CRIMINAL|       LOST PASSPORT|               OTHER| false|   false|0914|     009|  11|            60|      26|     1173433|     1885534|2016|02/10/2018 03:50:...|41.841326028|-87.639052486|(41.841326028, -8...|          6|\n",
            "|10433951|   HZ171487|2016-03-02 08:30:00|035XX S MICHIGAN AVE|5114|  NON-CRIMINAL|   FOID - REVOCATION|GOVERNMENT BUILDI...| false|   false|0213|     002|   3|            35|      26|     1177772|     1881665|2016|02/10/2018 03:50:...|41.830611847|-87.623247369|(41.830611847, -8...|          4|\n",
            "|10440832|   HZ179381|2016-02-10 00:00:00|029XX N KILPATRIC...|5093|  NON-CRIMINAL|       LOST PASSPORT|           APARTMENT| false|   false|2521|     025|  31|            19|      26|     1144535|     1919217|2016|02/10/2018 03:50:...|41.934348184|-87.744250537|(41.934348184, -8...|          4|\n",
            "|10441625|   HZ177884|2016-03-07 10:00:00|  051XX S MOBILE AVE|5114|  NON-CRIMINAL|   FOID - REVOCATION|           RESIDENCE| false|   false|0811|     008|  23|            56|      26|     1135240|     1869914|2016|02/10/2018 03:50:...|41.799223854|-87.779578905|(41.799223854, -8...|          2|\n",
            "|10446561|   HZ182837|2016-03-11 08:30:00|    0000X S CLARK ST|5114|  NON-CRIMINAL|   FOID - REVOCATION|            SIDEWALK| false|   false|0122|     001|  42|            32|      26|     1175543|     1900205|2016|02/10/2018 03:50:...|41.881537188|-87.630869076|(41.881537188, -8...|          6|\n",
            "+--------+-----------+-------------------+--------------------+----+--------------+--------------------+--------------------+------+--------+----+--------+----+--------------+--------+------------+------------+----+--------------------+------------+-------------+--------------------+-----------+\n",
            "only showing top 50 rows\n",
            "\n"
          ],
          "name": "stdout"
        }
      ]
    },
    {
      "cell_type": "code",
      "metadata": {
        "colab_type": "code",
        "id": "e5J1WQkBKIuN",
        "colab": {
          "base_uri": "https://localhost:8080/",
          "height": 204
        },
        "outputId": "95804914-e53e-4afe-ba8d-03c7bdca6741"
      },
      "source": [
        "nc.groupBy(col('Description')).count().orderBy('count',ascending=False).show(50,False)"
      ],
      "execution_count": 27,
      "outputs": [
        {
          "output_type": "stream",
          "text": [
            "+-------------------------------------------+-----+\n",
            "|Description                                |count|\n",
            "+-------------------------------------------+-----+\n",
            "|LOST PASSPORT                              |107  |\n",
            "|FOID - REVOCATION                          |75   |\n",
            "|NOTIFICATION OF STALKING - NO CONTACT ORDER|8    |\n",
            "|CONCEALED CARRY LICENSE REVOCATION         |5    |\n",
            "|FOUND PASSPORT                             |4    |\n",
            "|GUN OFFENDER NOTIFICATION-NO CONTACT       |3    |\n",
            "+-------------------------------------------+-----+\n",
            "\n"
          ],
          "name": "stdout"
        }
      ]
    },
    {
      "cell_type": "code",
      "metadata": {
        "colab_type": "code",
        "id": "Sx76PSOIKImG",
        "colab": {}
      },
      "source": [
        ""
      ],
      "execution_count": 0,
      "outputs": []
    },
    {
      "cell_type": "markdown",
      "metadata": {
        "colab_type": "text",
        "id": "A4u5vp73gEtB"
      },
      "source": [
        "**Using a bar chart, plot which day of the week has the most number of reported crime. \n",
        "**"
      ]
    },
    {
      "cell_type": "code",
      "metadata": {
        "colab_type": "code",
        "id": "ugRDxNwNgHNa",
        "colab": {}
      },
      "source": [
        "from pyspark.sql.functions import dayofweek, col"
      ],
      "execution_count": 0,
      "outputs": []
    },
    {
      "cell_type": "code",
      "metadata": {
        "colab_type": "code",
        "id": "T6w6-fN9gG_7",
        "colab": {
          "base_uri": "https://localhost:8080/",
          "height": 224
        },
        "outputId": "760f2d40-5c7c-4b76-f040-e9243b7052fe"
      },
      "source": [
        "rc = rc.withColumn('Day_of_week',dayofweek(col('Date')))\n",
        "rc.show(5)"
      ],
      "execution_count": 15,
      "outputs": [
        {
          "output_type": "stream",
          "text": [
            "+--------+-----------+-------------------+--------------------+----+-------------------+--------------------+--------------------+------+--------+----+--------+----+--------------+--------+------------+------------+----+--------------------+--------+---------+--------+-----------+\n",
            "|      ID|Case Number|               Date|               Block|IUCR|       Primary Type|         Description|Location Description|Arrest|Domestic|Beat|District|Ward|Community Area|FBI Code|X Coordinate|Y Coordinate|Year|          Updated On|Latitude|Longitude|Location|Day_of_week|\n",
            "+--------+-----------+-------------------+--------------------+----+-------------------+--------------------+--------------------+------+--------+----+--------+----+--------------+--------+------------+------------+----+--------------------+--------+---------+--------+-----------+\n",
            "|11034701|   JA366925|2001-01-01 11:00:00|     016XX E 86TH PL|1153| DECEPTIVE PRACTICE|FINANCIAL IDENTIT...|           RESIDENCE| false|   false|0412|     004|   8|            45|      11|        null|        null|2001|08/05/2017 03:50:...|    null|     null|    null|          2|\n",
            "|11227287|   JB147188|2017-10-08 03:00:00|  092XX S RACINE AVE|0281|CRIM SEXUAL ASSAULT|      NON-AGGRAVATED|           RESIDENCE| false|   false|2222|     022|  21|            73|      02|        null|        null|2017|02/11/2018 03:57:...|    null|     null|    null|          1|\n",
            "|11227583|   JB147595|2017-03-28 14:00:00|     026XX W 79TH ST|0620|           BURGLARY|      UNLAWFUL ENTRY|               OTHER| false|   false|0835|     008|  18|            70|      05|        null|        null|2017|02/11/2018 03:57:...|    null|     null|    null|          3|\n",
            "|11227293|   JB147230|2017-09-09 20:17:00|060XX S EBERHART AVE|0810|              THEFT|           OVER $500|           RESIDENCE| false|   false|0313|     003|  20|            42|      06|        null|        null|2017|02/11/2018 03:57:...|    null|     null|    null|          7|\n",
            "|11227634|   JB147599|2017-08-26 10:00:00| 001XX W RANDOLPH ST|0281|CRIM SEXUAL ASSAULT|      NON-AGGRAVATED|         HOTEL/MOTEL| false|   false|0122|     001|  42|            32|      02|        null|        null|2017|02/11/2018 03:57:...|    null|     null|    null|          7|\n",
            "+--------+-----------+-------------------+--------------------+----+-------------------+--------------------+--------------------+------+--------+----+--------+----+--------------+--------+------------+------------+----+--------------------+--------+---------+--------+-----------+\n",
            "only showing top 5 rows\n",
            "\n"
          ],
          "name": "stdout"
        }
      ]
    },
    {
      "cell_type": "code",
      "metadata": {
        "colab_type": "code",
        "id": "JkUF4yJFgG25",
        "colab": {
          "base_uri": "https://localhost:8080/",
          "height": 238
        },
        "outputId": "458f2a07-8db4-44be-83bd-3b5f72c3b44e"
      },
      "source": [
        "rc.select(col('Day_of_week')).distinct().show()"
      ],
      "execution_count": 16,
      "outputs": [
        {
          "output_type": "stream",
          "text": [
            "ERROR! Session/line number was not unique in database. History logging moved to new session 61\n",
            "+-----------+\n",
            "|Day_of_week|\n",
            "+-----------+\n",
            "|          1|\n",
            "|          6|\n",
            "|          3|\n",
            "|          5|\n",
            "|          4|\n",
            "|          7|\n",
            "|          2|\n",
            "+-----------+\n",
            "\n"
          ],
          "name": "stdout"
        }
      ]
    },
    {
      "cell_type": "code",
      "metadata": {
        "colab_type": "code",
        "id": "o3IB6VxLgGYi",
        "colab": {
          "base_uri": "https://localhost:8080/",
          "height": 221
        },
        "outputId": "67a37b47-8600-4c39-9bf5-e9261d286770"
      },
      "source": [
        "rc.groupBy(col('Day_of_week')).count().orderBy('count',ascending=False).show()"
      ],
      "execution_count": 17,
      "outputs": [
        {
          "output_type": "stream",
          "text": [
            "+-----------+-------+\n",
            "|Day_of_week|  count|\n",
            "+-----------+-------+\n",
            "|          6|1016868|\n",
            "|          4| 973776|\n",
            "|          3| 967949|\n",
            "|          7| 965081|\n",
            "|          5| 964447|\n",
            "|          2| 952632|\n",
            "|          1| 911850|\n",
            "+-----------+-------+\n",
            "\n"
          ],
          "name": "stdout"
        }
      ]
    },
    {
      "cell_type": "code",
      "metadata": {
        "colab_type": "code",
        "id": "bSxKI4ePKJ5j",
        "colab": {
          "base_uri": "https://localhost:8080/",
          "height": 204
        },
        "outputId": "add913f5-ec7b-4c8c-e00e-5a06d7a75f55"
      },
      "source": [
        "rc.select(col('Date'), dayofweek(col('Date'))).show(5)"
      ],
      "execution_count": 28,
      "outputs": [
        {
          "output_type": "stream",
          "text": [
            "+-------------------+---------------+\n",
            "|               Date|dayofweek(Date)|\n",
            "+-------------------+---------------+\n",
            "|2001-01-01 11:00:00|              2|\n",
            "|2017-10-08 03:00:00|              1|\n",
            "|2017-03-28 14:00:00|              3|\n",
            "|2017-09-09 20:17:00|              7|\n",
            "|2017-08-26 10:00:00|              7|\n",
            "+-------------------+---------------+\n",
            "only showing top 5 rows\n",
            "\n"
          ],
          "name": "stdout"
        }
      ]
    },
    {
      "cell_type": "code",
      "metadata": {
        "colab_type": "code",
        "id": "j_iQqpL1KJ2d",
        "colab": {}
      },
      "source": [
        "from pyspark.sql.functions import date_format"
      ],
      "execution_count": 0,
      "outputs": []
    },
    {
      "cell_type": "code",
      "metadata": {
        "id": "OXDsha6j6rKu",
        "colab_type": "code",
        "colab": {
          "base_uri": "https://localhost:8080/",
          "height": 204
        },
        "outputId": "0ca00b97-5c74-428b-dc9c-cab507c56990"
      },
      "source": [
        "rc.select(col('Date'), date_format(col('Date'),'E')).show(5)"
      ],
      "execution_count": 31,
      "outputs": [
        {
          "output_type": "stream",
          "text": [
            "+-------------------+--------------------+\n",
            "|               Date|date_format(Date, E)|\n",
            "+-------------------+--------------------+\n",
            "|2001-01-01 11:00:00|                 Mon|\n",
            "|2017-10-08 03:00:00|                 Sun|\n",
            "|2017-03-28 14:00:00|                 Tue|\n",
            "|2017-09-09 20:17:00|                 Sat|\n",
            "|2017-08-26 10:00:00|                 Sat|\n",
            "+-------------------+--------------------+\n",
            "only showing top 5 rows\n",
            "\n"
          ],
          "name": "stdout"
        }
      ]
    },
    {
      "cell_type": "code",
      "metadata": {
        "colab_type": "code",
        "id": "GbcSuGRpKJzq",
        "colab": {
          "base_uri": "https://localhost:8080/",
          "height": 221
        },
        "outputId": "33e31ad9-f1f8-423d-b7d1-d033fc8b6d98"
      },
      "source": [
        "rc.groupBy(date_format(col('Date'),'E')).count().orderBy('count',ascending=False).show()"
      ],
      "execution_count": 32,
      "outputs": [
        {
          "output_type": "stream",
          "text": [
            "+--------------------+-------+\n",
            "|date_format(Date, E)|  count|\n",
            "+--------------------+-------+\n",
            "|                 Fri|1016868|\n",
            "|                 Wed| 973776|\n",
            "|                 Tue| 967949|\n",
            "|                 Sat| 965081|\n",
            "|                 Thu| 964447|\n",
            "|                 Mon| 952632|\n",
            "|                 Sun| 911850|\n",
            "+--------------------+-------+\n",
            "\n"
          ],
          "name": "stdout"
        }
      ]
    },
    {
      "cell_type": "code",
      "metadata": {
        "colab_type": "code",
        "id": "h95xRmYbKJxE",
        "colab": {
          "base_uri": "https://localhost:8080/",
          "height": 136
        },
        "outputId": "44d0856d-14b2-4e8c-dd32-94e522082aa7"
      },
      "source": [
        "rc.groupBy(date_format(col('Date'),'E')).count().collect()"
      ],
      "execution_count": 33,
      "outputs": [
        {
          "output_type": "execute_result",
          "data": {
            "text/plain": [
              "[Row(date_format(Date, E)='Sun', count=911850),\n",
              " Row(date_format(Date, E)='Mon', count=952632),\n",
              " Row(date_format(Date, E)='Thu', count=964447),\n",
              " Row(date_format(Date, E)='Sat', count=965081),\n",
              " Row(date_format(Date, E)='Wed', count=973776),\n",
              " Row(date_format(Date, E)='Tue', count=967949),\n",
              " Row(date_format(Date, E)='Fri', count=1016868)]"
            ]
          },
          "metadata": {
            "tags": []
          },
          "execution_count": 33
        }
      ]
    },
    {
      "cell_type": "code",
      "metadata": {
        "id": "27meJDs377bk",
        "colab_type": "code",
        "colab": {
          "base_uri": "https://localhost:8080/",
          "height": 34
        },
        "outputId": "c59f29d7-5f98-43cb-f0cb-80c2d25c613d"
      },
      "source": [
        "dow = [x[0] for x in rc.groupBy(date_format(col('Date'),'E')).count().collect()]\n",
        "dow"
      ],
      "execution_count": 35,
      "outputs": [
        {
          "output_type": "execute_result",
          "data": {
            "text/plain": [
              "['Sun', 'Mon', 'Thu', 'Sat', 'Wed', 'Tue', 'Fri']"
            ]
          },
          "metadata": {
            "tags": []
          },
          "execution_count": 35
        }
      ]
    },
    {
      "cell_type": "code",
      "metadata": {
        "id": "o1LNStvu8hkF",
        "colab_type": "code",
        "colab": {
          "base_uri": "https://localhost:8080/",
          "height": 34
        },
        "outputId": "3ff168ea-6f71-4a72-ea27-531b311450a9"
      },
      "source": [
        "cnt = [x[1] for x in rc.groupBy(date_format(col('Date'),'E')).count().collect()]\n",
        "cnt"
      ],
      "execution_count": 36,
      "outputs": [
        {
          "output_type": "execute_result",
          "data": {
            "text/plain": [
              "[911850, 952632, 964447, 965081, 973776, 967949, 1016868]"
            ]
          },
          "metadata": {
            "tags": []
          },
          "execution_count": 36
        }
      ]
    },
    {
      "cell_type": "code",
      "metadata": {
        "id": "d6K9zjf48s9B",
        "colab_type": "code",
        "colab": {}
      },
      "source": [
        "import pandas as pd\n",
        "import matplotlib.pyplot as plt"
      ],
      "execution_count": 0,
      "outputs": []
    },
    {
      "cell_type": "code",
      "metadata": {
        "id": "_MyvA1aa8-Rq",
        "colab_type": "code",
        "colab": {
          "base_uri": "https://localhost:8080/",
          "height": 266
        },
        "outputId": "8727843f-50d3-4a4a-8ebe-d22519eadc28"
      },
      "source": [
        "cp = pd.DataFrame({'Day_of_week':dow,'Count':cnt})\n",
        "cp.head(7)"
      ],
      "execution_count": 40,
      "outputs": [
        {
          "output_type": "execute_result",
          "data": {
            "text/html": [
              "<div>\n",
              "<style scoped>\n",
              "    .dataframe tbody tr th:only-of-type {\n",
              "        vertical-align: middle;\n",
              "    }\n",
              "\n",
              "    .dataframe tbody tr th {\n",
              "        vertical-align: top;\n",
              "    }\n",
              "\n",
              "    .dataframe thead th {\n",
              "        text-align: right;\n",
              "    }\n",
              "</style>\n",
              "<table border=\"1\" class=\"dataframe\">\n",
              "  <thead>\n",
              "    <tr style=\"text-align: right;\">\n",
              "      <th></th>\n",
              "      <th>Day_of_week</th>\n",
              "      <th>Count</th>\n",
              "    </tr>\n",
              "  </thead>\n",
              "  <tbody>\n",
              "    <tr>\n",
              "      <th>0</th>\n",
              "      <td>Sun</td>\n",
              "      <td>911850</td>\n",
              "    </tr>\n",
              "    <tr>\n",
              "      <th>1</th>\n",
              "      <td>Mon</td>\n",
              "      <td>952632</td>\n",
              "    </tr>\n",
              "    <tr>\n",
              "      <th>2</th>\n",
              "      <td>Thu</td>\n",
              "      <td>964447</td>\n",
              "    </tr>\n",
              "    <tr>\n",
              "      <th>3</th>\n",
              "      <td>Sat</td>\n",
              "      <td>965081</td>\n",
              "    </tr>\n",
              "    <tr>\n",
              "      <th>4</th>\n",
              "      <td>Wed</td>\n",
              "      <td>973776</td>\n",
              "    </tr>\n",
              "    <tr>\n",
              "      <th>5</th>\n",
              "      <td>Tue</td>\n",
              "      <td>967949</td>\n",
              "    </tr>\n",
              "    <tr>\n",
              "      <th>6</th>\n",
              "      <td>Fri</td>\n",
              "      <td>1016868</td>\n",
              "    </tr>\n",
              "  </tbody>\n",
              "</table>\n",
              "</div>"
            ],
            "text/plain": [
              "  Day_of_week    Count\n",
              "0         Sun   911850\n",
              "1         Mon   952632\n",
              "2         Thu   964447\n",
              "3         Sat   965081\n",
              "4         Wed   973776\n",
              "5         Tue   967949\n",
              "6         Fri  1016868"
            ]
          },
          "metadata": {
            "tags": []
          },
          "execution_count": 40
        }
      ]
    },
    {
      "cell_type": "code",
      "metadata": {
        "id": "q2jDLrV09hdH",
        "colab_type": "code",
        "colab": {
          "base_uri": "https://localhost:8080/",
          "height": 324
        },
        "outputId": "2c66806d-c686-401c-a7af-669235d272ff"
      },
      "source": [
        "cp.sort_values('Count', ascending=False).plot(kind='bar',color='olive',x='Day_of_week',y='Count')\n",
        "plt.xlabel('Day of the week')\n",
        "plt.ylabel('No. of reported crimes')\n",
        "plt.title('No. of reported crimes per day of the week from 2001 to present')"
      ],
      "execution_count": 43,
      "outputs": [
        {
          "output_type": "execute_result",
          "data": {
            "text/plain": [
              "Text(0.5, 1.0, 'No. of reported crimes per day of the week from 2001 to present')"
            ]
          },
          "metadata": {
            "tags": []
          },
          "execution_count": 43
        },
        {
          "output_type": "display_data",
          "data": {
            "image/png": "[encoded data removed]",
            "text/plain": [
              "<Figure size 432x288 with 1 Axes>"
            ]
          },
          "metadata": {
            "tags": []
          }
        }
      ]
    },
    {
      "cell_type": "code",
      "metadata": {
        "id": "pQGdauZT8-AP",
        "colab_type": "code",
        "colab": {}
      },
      "source": [
        ""
      ],
      "execution_count": 0,
      "outputs": []
    }
  ]
}